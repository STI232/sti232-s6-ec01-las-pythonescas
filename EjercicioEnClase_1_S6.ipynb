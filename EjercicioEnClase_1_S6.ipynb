{
 "cells": [
  {
   "cell_type": "markdown",
   "metadata": {},
   "source": [
    "## Tarea 1\n",
    "##### Dataset de salarios (Científicos de datos)\n",
    "\n",
    "https://www.kaggle.com/datasets/iamsouravbanerjee/data-science-salaries-2023\n"
   ]
  },
  {
   "cell_type": "code",
   "execution_count": 3,
   "metadata": {
    "scrolled": true
   },
   "outputs": [
    {
     "data": {
      "text/html": [
       "<div>\n",
       "<style scoped>\n",
       "    .dataframe tbody tr th:only-of-type {\n",
       "        vertical-align: middle;\n",
       "    }\n",
       "\n",
       "    .dataframe tbody tr th {\n",
       "        vertical-align: top;\n",
       "    }\n",
       "\n",
       "    .dataframe thead th {\n",
       "        text-align: right;\n",
       "    }\n",
       "</style>\n",
       "<table border=\"1\" class=\"dataframe\">\n",
       "  <thead>\n",
       "    <tr style=\"text-align: right;\">\n",
       "      <th></th>\n",
       "      <th>Job Title</th>\n",
       "      <th>Employment Type</th>\n",
       "      <th>Experience Level</th>\n",
       "      <th>Expertise Level</th>\n",
       "      <th>Salary</th>\n",
       "      <th>Salary Currency</th>\n",
       "      <th>Company Location</th>\n",
       "      <th>Salary in USD</th>\n",
       "      <th>Employee Residence</th>\n",
       "      <th>Company Size</th>\n",
       "      <th>Year</th>\n",
       "    </tr>\n",
       "  </thead>\n",
       "  <tbody>\n",
       "    <tr>\n",
       "      <th>0</th>\n",
       "      <td>Data Engineer</td>\n",
       "      <td>Full-Time</td>\n",
       "      <td>Senior</td>\n",
       "      <td>Expert</td>\n",
       "      <td>210000</td>\n",
       "      <td>United States Dollar</td>\n",
       "      <td>United States</td>\n",
       "      <td>210000</td>\n",
       "      <td>United States</td>\n",
       "      <td>Medium</td>\n",
       "      <td>2023</td>\n",
       "    </tr>\n",
       "    <tr>\n",
       "      <th>1</th>\n",
       "      <td>Data Engineer</td>\n",
       "      <td>Full-Time</td>\n",
       "      <td>Senior</td>\n",
       "      <td>Expert</td>\n",
       "      <td>165000</td>\n",
       "      <td>United States Dollar</td>\n",
       "      <td>United States</td>\n",
       "      <td>165000</td>\n",
       "      <td>United States</td>\n",
       "      <td>Medium</td>\n",
       "      <td>2023</td>\n",
       "    </tr>\n",
       "    <tr>\n",
       "      <th>2</th>\n",
       "      <td>Data Engineer</td>\n",
       "      <td>Full-Time</td>\n",
       "      <td>Senior</td>\n",
       "      <td>Expert</td>\n",
       "      <td>185900</td>\n",
       "      <td>United States Dollar</td>\n",
       "      <td>United States</td>\n",
       "      <td>185900</td>\n",
       "      <td>United States</td>\n",
       "      <td>Medium</td>\n",
       "      <td>2023</td>\n",
       "    </tr>\n",
       "    <tr>\n",
       "      <th>3</th>\n",
       "      <td>Data Engineer</td>\n",
       "      <td>Full-Time</td>\n",
       "      <td>Senior</td>\n",
       "      <td>Expert</td>\n",
       "      <td>129300</td>\n",
       "      <td>United States Dollar</td>\n",
       "      <td>United States</td>\n",
       "      <td>129300</td>\n",
       "      <td>United States</td>\n",
       "      <td>Medium</td>\n",
       "      <td>2023</td>\n",
       "    </tr>\n",
       "    <tr>\n",
       "      <th>4</th>\n",
       "      <td>Data Scientist</td>\n",
       "      <td>Full-Time</td>\n",
       "      <td>Senior</td>\n",
       "      <td>Expert</td>\n",
       "      <td>140000</td>\n",
       "      <td>United States Dollar</td>\n",
       "      <td>United States</td>\n",
       "      <td>140000</td>\n",
       "      <td>United States</td>\n",
       "      <td>Medium</td>\n",
       "      <td>2023</td>\n",
       "    </tr>\n",
       "    <tr>\n",
       "      <th>5</th>\n",
       "      <td>Data Scientist</td>\n",
       "      <td>Full-Time</td>\n",
       "      <td>Senior</td>\n",
       "      <td>Expert</td>\n",
       "      <td>126000</td>\n",
       "      <td>United States Dollar</td>\n",
       "      <td>United States</td>\n",
       "      <td>126000</td>\n",
       "      <td>United States</td>\n",
       "      <td>Medium</td>\n",
       "      <td>2023</td>\n",
       "    </tr>\n",
       "    <tr>\n",
       "      <th>6</th>\n",
       "      <td>Data Scientist</td>\n",
       "      <td>Full-Time</td>\n",
       "      <td>Senior</td>\n",
       "      <td>Expert</td>\n",
       "      <td>170000</td>\n",
       "      <td>United States Dollar</td>\n",
       "      <td>United States</td>\n",
       "      <td>170000</td>\n",
       "      <td>United States</td>\n",
       "      <td>Medium</td>\n",
       "      <td>2023</td>\n",
       "    </tr>\n",
       "    <tr>\n",
       "      <th>7</th>\n",
       "      <td>Data Scientist</td>\n",
       "      <td>Full-Time</td>\n",
       "      <td>Senior</td>\n",
       "      <td>Expert</td>\n",
       "      <td>130000</td>\n",
       "      <td>United States Dollar</td>\n",
       "      <td>United States</td>\n",
       "      <td>130000</td>\n",
       "      <td>United States</td>\n",
       "      <td>Medium</td>\n",
       "      <td>2023</td>\n",
       "    </tr>\n",
       "    <tr>\n",
       "      <th>8</th>\n",
       "      <td>Data Engineer</td>\n",
       "      <td>Full-Time</td>\n",
       "      <td>Mid</td>\n",
       "      <td>Intermediate</td>\n",
       "      <td>85000</td>\n",
       "      <td>British Pound Sterling</td>\n",
       "      <td>United Kingdom</td>\n",
       "      <td>104584</td>\n",
       "      <td>United Kingdom</td>\n",
       "      <td>Medium</td>\n",
       "      <td>2023</td>\n",
       "    </tr>\n",
       "    <tr>\n",
       "      <th>9</th>\n",
       "      <td>Data Engineer</td>\n",
       "      <td>Full-Time</td>\n",
       "      <td>Mid</td>\n",
       "      <td>Intermediate</td>\n",
       "      <td>75000</td>\n",
       "      <td>British Pound Sterling</td>\n",
       "      <td>United Kingdom</td>\n",
       "      <td>92280</td>\n",
       "      <td>United Kingdom</td>\n",
       "      <td>Medium</td>\n",
       "      <td>2023</td>\n",
       "    </tr>\n",
       "  </tbody>\n",
       "</table>\n",
       "</div>"
      ],
      "text/plain": [
       "        Job Title Employment Type Experience Level Expertise Level  Salary  \\\n",
       "0   Data Engineer       Full-Time           Senior          Expert  210000   \n",
       "1   Data Engineer       Full-Time           Senior          Expert  165000   \n",
       "2   Data Engineer       Full-Time           Senior          Expert  185900   \n",
       "3   Data Engineer       Full-Time           Senior          Expert  129300   \n",
       "4  Data Scientist       Full-Time           Senior          Expert  140000   \n",
       "5  Data Scientist       Full-Time           Senior          Expert  126000   \n",
       "6  Data Scientist       Full-Time           Senior          Expert  170000   \n",
       "7  Data Scientist       Full-Time           Senior          Expert  130000   \n",
       "8   Data Engineer       Full-Time              Mid    Intermediate   85000   \n",
       "9   Data Engineer       Full-Time              Mid    Intermediate   75000   \n",
       "\n",
       "          Salary Currency Company Location  Salary in USD Employee Residence  \\\n",
       "0    United States Dollar    United States         210000      United States   \n",
       "1    United States Dollar    United States         165000      United States   \n",
       "2    United States Dollar    United States         185900      United States   \n",
       "3    United States Dollar    United States         129300      United States   \n",
       "4    United States Dollar    United States         140000      United States   \n",
       "5    United States Dollar    United States         126000      United States   \n",
       "6    United States Dollar    United States         170000      United States   \n",
       "7    United States Dollar    United States         130000      United States   \n",
       "8  British Pound Sterling   United Kingdom         104584     United Kingdom   \n",
       "9  British Pound Sterling   United Kingdom          92280     United Kingdom   \n",
       "\n",
       "  Company Size  Year  \n",
       "0       Medium  2023  \n",
       "1       Medium  2023  \n",
       "2       Medium  2023  \n",
       "3       Medium  2023  \n",
       "4       Medium  2023  \n",
       "5       Medium  2023  \n",
       "6       Medium  2023  \n",
       "7       Medium  2023  \n",
       "8       Medium  2023  \n",
       "9       Medium  2023  "
      ]
     },
     "execution_count": 3,
     "metadata": {},
     "output_type": "execute_result"
    }
   ],
   "source": [
    "import pandas as pd\n",
    "import matplotlib.pyplot as plt\n",
    "df = pd.read_csv(\"Latest_Data_Science_Salaries.csv\")\n",
    "df.head(10)"
   ]
  },
  {
   "cell_type": "markdown",
   "metadata": {},
   "source": [
    "# Ejercicio en Clase:\n",
    "\n",
    "Para este ejercicio debes realizar los siguientes pasos de manera anticipada los siguientes procesos:\n",
    "- Cargar el conjunto de datos desde un archivo CSV utilizando pandas.\n",
    "- Explorar y familiarizarse con la estructura del conjunto de datos.\n",
    "- Calcular estadísticas descriptivas, como el promedio, la mediana y la desviación estándar, de variables relevantes del conjunto de datos general.\n",
    "\n",
    "#### Acciones por ejecutar\n",
    "\n",
    "1. ¿Cúantos posibles \"Job Title\" existen en el Dataset?\n",
    "2. ¿Cúales son los \"Employment Type\" y en qué frecuencia se presentan en el Dataset?\n",
    "3. ¿Cuáles son los \"Expertise Level\" y \"Experience Level\" y cuál es el salario promedio general de cada uno?\n",
    "4. ¿Cuáles son los \"Salary Currency\" y a qué tasa está covertido respecto al dolar cada uno?\n",
    "5. ¿En cuántos paises diferentes se encuentran los empleados (\"Employee Residence\")?\n",
    "6. ¿Cuál salario promedio por \"Job Title\" agrupado?\n",
    "7. ¿Cuál es el salario promedio por país de residencia (Employee Residence)?\n",
    "8. ¿Cuál es el \"Salary in USD\" máximo y mínimo?¿A qué registro pertenece?\n",
    "9. ¿Cuál es el salario promedio (en USD) por rol por tamaño de compañía?\n",
    "10. muestre los datos agrupados por tamaño de la compañía, país y salario promedio."
   ]
  },
  {
   "cell_type": "markdown",
   "metadata": {},
   "source": [
    "### Propuesta de solución\n"
   ]
  },
  {
   "cell_type": "code",
   "execution_count": 1,
   "metadata": {},
   "outputs": [],
   "source": [
    "# Inserte la solución de cada pregunta"
   ]
  },
  {
   "cell_type": "code",
   "execution_count": 2,
   "metadata": {},
   "outputs": [
    {
     "name": "stdout",
     "output_type": "stream",
     "text": [
      "3300\n"
     ]
    }
   ],
   "source": [
    "#1. ¿Cúantos posibles \"Job Title\" existen en el Dataset?\n",
    "import pandas as pd\n",
    "import matplotlib.pyplot as plt\n",
    "df = pd.read_csv(\"Latest_Data_Science_Salaries.csv\")\n",
    "df_data = len(df[[\"Job Title\"]])\n",
    "print(df_data)"
   ]
  },
  {
   "cell_type": "code",
   "execution_count": 14,
   "metadata": {},
   "outputs": [
    {
     "name": "stdout",
     "output_type": "stream",
     "text": [
      "     Employment Type\n",
      "0          Full-Time\n",
      "1          Full-Time\n",
      "2          Full-Time\n",
      "3          Full-Time\n",
      "4          Full-Time\n",
      "...              ...\n",
      "3295       Full-Time\n",
      "3296       Full-Time\n",
      "3297       Full-Time\n",
      "3298        Contract\n",
      "3299       Full-Time\n",
      "\n",
      "[3300 rows x 1 columns]\n"
     ]
    }
   ],
   "source": [
    "#2. ¿Cúales son los \"Employment Type\" y en qué frecuencia se presentan en el Dataset?\n",
    "df_filter = df[[\"Employment Type\"]]\n",
    "print(df_filter)\n",
    "#Falta filtrar"
   ]
  },
  {
   "cell_type": "code",
   "execution_count": null,
   "metadata": {},
   "outputs": [],
   "source": [
    "# 3. ¿Cuáles son los \"Expertise Level\" y \"Experience Level\" y cuál es el salario promedio general de cada uno?"
   ]
  },
  {
   "cell_type": "code",
   "execution_count": null,
   "metadata": {},
   "outputs": [],
   "source": [
    "# 4. ¿Cuáles son los \"Salary Currency\" y a qué tasa está covertido respecto al dolar cada uno?"
   ]
  },
  {
   "cell_type": "code",
   "execution_count": 20,
   "metadata": {},
   "outputs": [
    {
     "name": "stdout",
     "output_type": "stream",
     "text": [
      "Número de países diferentes: 83\n"
     ]
    }
   ],
   "source": [
    "# 5. ¿En cuántos paises diferentes se encuentran los empleados (\"Employee Residence\")?\n",
    "paises_diferentes = df[\"Employee Residence\"].unique()\n",
    "numero_de_paises_diferentes = len(paises_diferentes)\n",
    "print(\"Número de países diferentes:\", numero_de_paises_diferentes)"
   ]
  },
  {
   "cell_type": "code",
   "execution_count": 8,
   "metadata": {},
   "outputs": [
    {
     "name": "stdout",
     "output_type": "stream",
     "text": [
      "        Job Title Employment Type Experience Level Expertise Level  Salary  \\\n",
      "0   Data Engineer       Full-Time           Senior          Expert  210000   \n",
      "1   Data Engineer       Full-Time           Senior          Expert  165000   \n",
      "2   Data Engineer       Full-Time           Senior          Expert  185900   \n",
      "3   Data Engineer       Full-Time           Senior          Expert  129300   \n",
      "4  Data Scientist       Full-Time           Senior          Expert  140000   \n",
      "\n",
      "        Salary Currency Company Location  Salary in USD Employee Residence  \\\n",
      "0  United States Dollar    United States         210000      United States   \n",
      "1  United States Dollar    United States         165000      United States   \n",
      "2  United States Dollar    United States         185900      United States   \n",
      "3  United States Dollar    United States         129300      United States   \n",
      "4  United States Dollar    United States         140000      United States   \n",
      "\n",
      "  Company Size  Year  \n",
      "0       Medium  2023  \n",
      "1       Medium  2023  \n",
      "2       Medium  2023  \n",
      "3       Medium  2023  \n",
      "4       Medium  2023  \n",
      "Job Title\n",
      "AI Architect                       233500.000000\n",
      "AI Developer                       133666.666667\n",
      "AI Programmer                       62500.000000\n",
      "AI Scientist                       263444.444444\n",
      "AWS Data Architect                 258000.000000\n",
      "                                       ...      \n",
      "Sales Data Analyst                  60000.000000\n",
      "Software Data Engineer             120000.000000\n",
      "Staff Data Analyst                  97499.000000\n",
      "Staff Data Scientist               134500.000000\n",
      "Staff Machine Learning Engineer    185000.000000\n",
      "Name: Salary, Length: 111, dtype: float64\n"
     ]
    }
   ],
   "source": [
    "# 6. ¿Cuál salario promedio por \"Job Title\" agrupado?\n",
    "import pandas as pd\n",
    "data = pd.read_csv(\"Latest_Data_Science_Salaries.csv\")\n",
    "print(data.head())\n",
    "salario_promedio_por_puesto = data.groupby(\"Job Title\")[\"Salary\"].mean()\n",
    "print(salario_promedio_por_puesto)"
   ]
  },
  {
   "cell_type": "code",
   "execution_count": 9,
   "metadata": {},
   "outputs": [
    {
     "name": "stdout",
     "output_type": "stream",
     "text": [
      "Employee Residence\n",
      "Algeria                 100000.000000\n",
      "American Samoa           45555.000000\n",
      "Andorra                  47000.000000\n",
      "Argentina                56444.444444\n",
      "Armenia                  50000.000000\n",
      "                            ...      \n",
      "United Arab Emirates    100000.000000\n",
      "United Kingdom           96596.857143\n",
      "United States           159794.726050\n",
      "Uzbekistan               82000.000000\n",
      "Viet Nam                 44200.000000\n",
      "Name: Salary, Length: 83, dtype: float64\n"
     ]
    }
   ],
   "source": [
    "# 7. ¿Cuál es el salario promedio por país de residencia (Employee Residence)?\n",
    "salario_promedio_por_pais = data.groupby(\"Employee Residence\")[\"Salary\"].mean()\n",
    "print(salario_promedio_por_pais)"
   ]
  },
  {
   "cell_type": "code",
   "execution_count": 4,
   "metadata": {},
   "outputs": [
    {
     "name": "stdout",
     "output_type": "stream",
     "text": [
      "Salario máximo en USD: 450000\n",
      "Salario mínimo en USD: 15000\n"
     ]
    }
   ],
   "source": [
    "# 8. ¿Cuál es el \"Salary in USD\" máximo y mínimo?¿A qué registro pertenece?\n",
    "sal_max = df['Salary in USD'].max()\n",
    "sal_min = df['Salary in USD'].min()\n",
    "\n",
    "print (\"Salario máximo en USD:\",sal_max)\n",
    "print (\"Salario mínimo en USD:\",sal_min)"
   ]
  },
  {
   "cell_type": "code",
   "execution_count": 12,
   "metadata": {},
   "outputs": [
    {
     "name": "stdout",
     "output_type": "stream",
     "text": [
      "Job Title\n",
      "AI Architect                       237484.000000\n",
      "AI Developer                       133177.777778\n",
      "AI Programmer                       56021.750000\n",
      "AI Scientist                       114117.333333\n",
      "AWS Data Architect                 258000.000000\n",
      "                                       ...      \n",
      "Sales Data Analyst                  60000.000000\n",
      "Software Data Engineer             111627.666667\n",
      "Staff Data Analyst                  97499.000000\n",
      "Staff Data Scientist               134500.000000\n",
      "Staff Machine Learning Engineer    185000.000000\n",
      "Name: Salary in USD, Length: 111, dtype: float64\n"
     ]
    }
   ],
   "source": [
    "# 9. ¿Cuál es el salario promedio (en USD) por rol por tamaño de compañía? \n",
    "promedio_sal = df.groupby('Job Title')['Salary in USD'].mean()\n",
    "print(promedio_sal)"
   ]
  },
  {
   "cell_type": "code",
   "execution_count": 14,
   "metadata": {},
   "outputs": [
    {
     "name": "stdout",
     "output_type": "stream",
     "text": [
      "    Company Location Company Size  Salary in USD\n",
      "0            Algeria       Medium  100000.000000\n",
      "1     American Samoa        Large   50000.000000\n",
      "2     American Samoa        Small   18053.000000\n",
      "3            Andorra        Small   50745.000000\n",
      "4          Argentina        Large   50000.000000\n",
      "..               ...          ...            ...\n",
      "130   United Kingdom       Medium  109117.449541\n",
      "131   United Kingdom        Small   95451.333333\n",
      "132    United States        Large  153165.880658\n",
      "133    United States       Medium  160228.005467\n",
      "134    United States        Small  113025.087719\n",
      "\n",
      "[135 rows x 3 columns]\n"
     ]
    }
   ],
   "source": [
    "# 10. muestre los datos agrupados por tamaño de la compañía, país y salario promedio. \n",
    "agrupacion = df.groupby(['Company Location','Company Size'])['Salary in USD'].mean().reset_index()\n",
    "print(agrupacion)"
   ]
  }
 ],
 "metadata": {
  "kernelspec": {
   "display_name": "base",
   "language": "python",
   "name": "python3"
  },
  "language_info": {
   "codemirror_mode": {
    "name": "ipython",
    "version": 3
   },
   "file_extension": ".py",
   "mimetype": "text/x-python",
   "name": "python",
   "nbconvert_exporter": "python",
   "pygments_lexer": "ipython3",
   "version": "3.11.3"
  },
  "metadata": {
   "interpreter": {
    "hash": "ba3d4850a890c10d45586037237bfe2cfcb2abdc7396d04cb7cfb59a77f41f12"
   }
  }
 },
 "nbformat": 4,
 "nbformat_minor": 4
}
