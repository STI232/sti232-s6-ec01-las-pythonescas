{
 "cells": [
  {
   "cell_type": "markdown",
   "metadata": {},
   "source": [
    "## Tarea 1\n",
    "##### Dataset de salarios (Científicos de datos)\n",
    "\n",
    "https://www.kaggle.com/datasets/iamsouravbanerjee/data-science-salaries-2023\n"
   ]
  },
  {
   "cell_type": "code",
   "execution_count": 1,
   "metadata": {
    "scrolled": true
   },
   "outputs": [
    {
     "data": {
      "text/html": [
       "<div>\n",
       "<style scoped>\n",
       "    .dataframe tbody tr th:only-of-type {\n",
       "        vertical-align: middle;\n",
       "    }\n",
       "\n",
       "    .dataframe tbody tr th {\n",
       "        vertical-align: top;\n",
       "    }\n",
       "\n",
       "    .dataframe thead th {\n",
       "        text-align: right;\n",
       "    }\n",
       "</style>\n",
       "<table border=\"1\" class=\"dataframe\">\n",
       "  <thead>\n",
       "    <tr style=\"text-align: right;\">\n",
       "      <th></th>\n",
       "      <th>Job Title</th>\n",
       "      <th>Employment Type</th>\n",
       "      <th>Experience Level</th>\n",
       "      <th>Expertise Level</th>\n",
       "      <th>Salary</th>\n",
       "      <th>Salary Currency</th>\n",
       "      <th>Company Location</th>\n",
       "      <th>Salary in USD</th>\n",
       "      <th>Employee Residence</th>\n",
       "      <th>Company Size</th>\n",
       "      <th>Year</th>\n",
       "    </tr>\n",
       "  </thead>\n",
       "  <tbody>\n",
       "    <tr>\n",
       "      <th>0</th>\n",
       "      <td>Data Engineer</td>\n",
       "      <td>Full-Time</td>\n",
       "      <td>Senior</td>\n",
       "      <td>Expert</td>\n",
       "      <td>210000</td>\n",
       "      <td>United States Dollar</td>\n",
       "      <td>United States</td>\n",
       "      <td>210000</td>\n",
       "      <td>United States</td>\n",
       "      <td>Medium</td>\n",
       "      <td>2023</td>\n",
       "    </tr>\n",
       "    <tr>\n",
       "      <th>1</th>\n",
       "      <td>Data Engineer</td>\n",
       "      <td>Full-Time</td>\n",
       "      <td>Senior</td>\n",
       "      <td>Expert</td>\n",
       "      <td>165000</td>\n",
       "      <td>United States Dollar</td>\n",
       "      <td>United States</td>\n",
       "      <td>165000</td>\n",
       "      <td>United States</td>\n",
       "      <td>Medium</td>\n",
       "      <td>2023</td>\n",
       "    </tr>\n",
       "    <tr>\n",
       "      <th>2</th>\n",
       "      <td>Data Engineer</td>\n",
       "      <td>Full-Time</td>\n",
       "      <td>Senior</td>\n",
       "      <td>Expert</td>\n",
       "      <td>185900</td>\n",
       "      <td>United States Dollar</td>\n",
       "      <td>United States</td>\n",
       "      <td>185900</td>\n",
       "      <td>United States</td>\n",
       "      <td>Medium</td>\n",
       "      <td>2023</td>\n",
       "    </tr>\n",
       "    <tr>\n",
       "      <th>3</th>\n",
       "      <td>Data Engineer</td>\n",
       "      <td>Full-Time</td>\n",
       "      <td>Senior</td>\n",
       "      <td>Expert</td>\n",
       "      <td>129300</td>\n",
       "      <td>United States Dollar</td>\n",
       "      <td>United States</td>\n",
       "      <td>129300</td>\n",
       "      <td>United States</td>\n",
       "      <td>Medium</td>\n",
       "      <td>2023</td>\n",
       "    </tr>\n",
       "    <tr>\n",
       "      <th>4</th>\n",
       "      <td>Data Scientist</td>\n",
       "      <td>Full-Time</td>\n",
       "      <td>Senior</td>\n",
       "      <td>Expert</td>\n",
       "      <td>140000</td>\n",
       "      <td>United States Dollar</td>\n",
       "      <td>United States</td>\n",
       "      <td>140000</td>\n",
       "      <td>United States</td>\n",
       "      <td>Medium</td>\n",
       "      <td>2023</td>\n",
       "    </tr>\n",
       "    <tr>\n",
       "      <th>5</th>\n",
       "      <td>Data Scientist</td>\n",
       "      <td>Full-Time</td>\n",
       "      <td>Senior</td>\n",
       "      <td>Expert</td>\n",
       "      <td>126000</td>\n",
       "      <td>United States Dollar</td>\n",
       "      <td>United States</td>\n",
       "      <td>126000</td>\n",
       "      <td>United States</td>\n",
       "      <td>Medium</td>\n",
       "      <td>2023</td>\n",
       "    </tr>\n",
       "    <tr>\n",
       "      <th>6</th>\n",
       "      <td>Data Scientist</td>\n",
       "      <td>Full-Time</td>\n",
       "      <td>Senior</td>\n",
       "      <td>Expert</td>\n",
       "      <td>170000</td>\n",
       "      <td>United States Dollar</td>\n",
       "      <td>United States</td>\n",
       "      <td>170000</td>\n",
       "      <td>United States</td>\n",
       "      <td>Medium</td>\n",
       "      <td>2023</td>\n",
       "    </tr>\n",
       "    <tr>\n",
       "      <th>7</th>\n",
       "      <td>Data Scientist</td>\n",
       "      <td>Full-Time</td>\n",
       "      <td>Senior</td>\n",
       "      <td>Expert</td>\n",
       "      <td>130000</td>\n",
       "      <td>United States Dollar</td>\n",
       "      <td>United States</td>\n",
       "      <td>130000</td>\n",
       "      <td>United States</td>\n",
       "      <td>Medium</td>\n",
       "      <td>2023</td>\n",
       "    </tr>\n",
       "    <tr>\n",
       "      <th>8</th>\n",
       "      <td>Data Engineer</td>\n",
       "      <td>Full-Time</td>\n",
       "      <td>Mid</td>\n",
       "      <td>Intermediate</td>\n",
       "      <td>85000</td>\n",
       "      <td>British Pound Sterling</td>\n",
       "      <td>United Kingdom</td>\n",
       "      <td>104584</td>\n",
       "      <td>United Kingdom</td>\n",
       "      <td>Medium</td>\n",
       "      <td>2023</td>\n",
       "    </tr>\n",
       "    <tr>\n",
       "      <th>9</th>\n",
       "      <td>Data Engineer</td>\n",
       "      <td>Full-Time</td>\n",
       "      <td>Mid</td>\n",
       "      <td>Intermediate</td>\n",
       "      <td>75000</td>\n",
       "      <td>British Pound Sterling</td>\n",
       "      <td>United Kingdom</td>\n",
       "      <td>92280</td>\n",
       "      <td>United Kingdom</td>\n",
       "      <td>Medium</td>\n",
       "      <td>2023</td>\n",
       "    </tr>\n",
       "  </tbody>\n",
       "</table>\n",
       "</div>"
      ],
      "text/plain": [
       "        Job Title Employment Type Experience Level Expertise Level  Salary  \\\n",
       "0   Data Engineer       Full-Time           Senior          Expert  210000   \n",
       "1   Data Engineer       Full-Time           Senior          Expert  165000   \n",
       "2   Data Engineer       Full-Time           Senior          Expert  185900   \n",
       "3   Data Engineer       Full-Time           Senior          Expert  129300   \n",
       "4  Data Scientist       Full-Time           Senior          Expert  140000   \n",
       "5  Data Scientist       Full-Time           Senior          Expert  126000   \n",
       "6  Data Scientist       Full-Time           Senior          Expert  170000   \n",
       "7  Data Scientist       Full-Time           Senior          Expert  130000   \n",
       "8   Data Engineer       Full-Time              Mid    Intermediate   85000   \n",
       "9   Data Engineer       Full-Time              Mid    Intermediate   75000   \n",
       "\n",
       "          Salary Currency Company Location  Salary in USD Employee Residence  \\\n",
       "0    United States Dollar    United States         210000      United States   \n",
       "1    United States Dollar    United States         165000      United States   \n",
       "2    United States Dollar    United States         185900      United States   \n",
       "3    United States Dollar    United States         129300      United States   \n",
       "4    United States Dollar    United States         140000      United States   \n",
       "5    United States Dollar    United States         126000      United States   \n",
       "6    United States Dollar    United States         170000      United States   \n",
       "7    United States Dollar    United States         130000      United States   \n",
       "8  British Pound Sterling   United Kingdom         104584     United Kingdom   \n",
       "9  British Pound Sterling   United Kingdom          92280     United Kingdom   \n",
       "\n",
       "  Company Size  Year  \n",
       "0       Medium  2023  \n",
       "1       Medium  2023  \n",
       "2       Medium  2023  \n",
       "3       Medium  2023  \n",
       "4       Medium  2023  \n",
       "5       Medium  2023  \n",
       "6       Medium  2023  \n",
       "7       Medium  2023  \n",
       "8       Medium  2023  \n",
       "9       Medium  2023  "
      ]
     },
     "execution_count": 1,
     "metadata": {},
     "output_type": "execute_result"
    }
   ],
   "source": [
    "import pandas as pd\n",
    "import matplotlib.pyplot as plt\n",
    "df = pd.read_csv(\"Latest_Data_Science_Salaries.csv\")\n",
    "df.head(10)"
   ]
  },
  {
   "cell_type": "markdown",
   "metadata": {},
   "source": [
    "# Ejercicio en Clase:\n",
    "\n",
    "Para este ejercicio debes realizar los siguientes pasos de manera anticipada los siguientes procesos:\n",
    "- Cargar el conjunto de datos desde un archivo CSV utilizando pandas.\n",
    "- Explorar y familiarizarse con la estructura del conjunto de datos.\n",
    "- Calcular estadísticas descriptivas, como el promedio, la mediana y la desviación estándar, de variables relevantes del conjunto de datos general.\n",
    "\n",
    "#### Acciones por ejecutar\n",
    "\n",
    "1. ¿Cúantos posibles \"Job Title\" existen en el Dataset?\n",
    "2. ¿Cúales son los \"Employment Type\" y en qué frecuencia se presentan en el Dataset?\n",
    "3. ¿Cuáles son los \"Expertise Level\" y \"Experience Level\" y cuál es el salario promedio general de cada uno?\n",
    "4. ¿Cuáles son los \"Salary Currency\" y a qué tasa está covertido respecto al dolar cada uno?\n",
    "5. ¿En cuántos paises diferentes se encuentran los empleados (\"Employee Residence\")?\n",
    "6. ¿Cuál salario promedio por \"Job Title\" agrupado?\n",
    "7. ¿Cuál es el salario promedio por país de residencia (Employee Residence)?\n",
    "8. ¿Cuál es el \"Salary in USD\" máximo y mínimo?¿A qué registro pertenece?\n",
    "9. ¿Cuál es el salario promedio (en USD) por rol por tamaño de compañía?\n",
    "10. muestre los datos agrupados por tamaño de la compañía, país y salario promedio."
   ]
  },
  {
   "cell_type": "markdown",
   "metadata": {},
   "source": [
    "### Propuesta de solución\n"
   ]
  },
  {
   "cell_type": "code",
   "execution_count": 1,
   "metadata": {},
   "outputs": [],
   "source": [
    "# Inserte la solución de cada pregunta"
   ]
  },
  {
   "cell_type": "code",
   "execution_count": 5,
   "metadata": {},
   "outputs": [
    {
     "name": "stdout",
     "output_type": "stream",
     "text": [
      "3300\n"
     ]
    }
   ],
   "source": [
    "#1. ¿Cúantos posibles \"Job Title\" existen en el Dataset?\n",
    "import pandas as pd\n",
    "import matplotlib.pyplot as plt\n",
    "df = pd.read_csv(\"Latest_Data_Science_Salaries.csv\")\n",
    "df_data = len(df[[\"Job Title\"]])\n",
    "print(df_data)"
   ]
  },
  {
   "cell_type": "code",
   "execution_count": 8,
   "metadata": {},
   "outputs": [
    {
     "name": "stdout",
     "output_type": "stream",
     "text": [
      "Employment Type\n",
      "Full-Time    3261\n",
      "Contract       15\n",
      "Part-Time      13\n",
      "Freelance      11\n",
      "Name: count, dtype: int64\n"
     ]
    }
   ],
   "source": [
    "#2. ¿Cúales son los \"Employment Type\" y en qué frecuencia se presentan en el Dataset?\n",
    "e_type = df['Employment Type'].value_counts()\n",
    "print(e_type)"
   ]
  },
  {
   "cell_type": "code",
   "execution_count": 19,
   "metadata": {},
   "outputs": [
    {
     "name": "stdout",
     "output_type": "stream",
     "text": [
      "Salario promedio por nivel de experiencia:\n",
      "Senior: 160277.51 USD\n",
      "Mid: 108714.98 USD\n",
      "Executive: 191512.14 USD\n",
      "Entry: 79921.48 USD\n",
      "\n",
      "Salario promedio por nivel de expertise:\n",
      "Expert: 160277.51 USD\n",
      "Intermediate: 108714.98 USD\n",
      "Director: 191512.14 USD\n",
      "Junior: 79921.48 USD\n"
     ]
    }
   ],
   "source": [
    "# 3. ¿Cuáles son los \"Expertise Level\" y \"Experience Level\" y cuál es el salario promedio general de cada uno?\n",
    "l_expertise = df['Expertise Level'].unique()\n",
    "l_experience = df['Experience Level'].unique()\n",
    "\n",
    "s_expertise = {}\n",
    "s_experience = {}\n",
    "\n",
    "for expertise_level in l_expertise:\n",
    "    expertise_df = df[df['Expertise Level'] == expertise_level]\n",
    "    average_salary = expertise_df['Salary in USD'].mean()\n",
    "    s_expertise[expertise_level] = average_salary\n",
    "\n",
    "for experience_level in l_experience:\n",
    "    experience_df = df[df['Experience Level'] == experience_level]\n",
    "    average_salary = experience_df['Salary in USD'].mean()\n",
    "    s_experience[experience_level] = average_salary\n",
    "\n",
    "print(\"Salario promedio por nivel de experiencia:\")\n",
    "for experience_level, avg_salary in s_experience.items():\n",
    "    print(f\"{experience_level}: {avg_salary:.2f} USD\")\n",
    "\n",
    "print(\"\\nSalario promedio por nivel de expertise:\")\n",
    "for expertise_level, avg_salary in s_expertise.items():\n",
    "    print(f\"{expertise_level}: {avg_salary:.2f} USD\")"
   ]
  },
  {
   "cell_type": "code",
   "execution_count": 20,
   "metadata": {},
   "outputs": [
    {
     "name": "stdout",
     "output_type": "stream",
     "text": [
      "['United States Dollar' 'British Pound Sterling' 'Euro' 'Indian Rupee'\n",
      " 'Philippine Peso' 'Canadian Dollar' 'Turkish Lira' 'Brazilian Real'\n",
      " 'Swiss Franc' 'Australian Dollar' 'Polish Zloty' 'Norwegian Krone'\n",
      " 'Japanese Yen' 'South African Rand' 'Hong Kong Dollar' 'Singapore Dollar'\n",
      " 'Israeli New Shekel' 'Thai Baht' 'Hungarian Forint' 'Danish Krone'\n",
      " 'Mexican Peso' 'Chilean Peso']\n"
     ]
    }
   ],
   "source": [
    "# 4. ¿Cuáles son los \"Salary Currency\" y a qué tasa está covertido respecto al dolar cada uno?\n",
    "s_currency = df['Salary Currency'].unique()\n",
    "print(s_currency)\n",
    "#Hice push perras"
   ]
  },
  {
   "cell_type": "code",
   "execution_count": 10,
   "metadata": {},
   "outputs": [],
   "source": [
    "# 5. ¿En cuántos paises diferentes se encuentran los empleados (\"Employee Residence\")?"
   ]
  },
  {
   "cell_type": "code",
   "execution_count": null,
   "metadata": {},
   "outputs": [],
   "source": [
    "# 6. ¿Cuál salario promedio por \"Job Title\" agrupado?"
   ]
  },
  {
   "cell_type": "code",
   "execution_count": null,
   "metadata": {},
   "outputs": [],
   "source": [
    "# 7. ¿Cuál es el salario promedio por país de residencia (Employee Residence)?"
   ]
  },
  {
   "cell_type": "code",
   "execution_count": 2,
   "metadata": {},
   "outputs": [
    {
     "ename": "NameError",
     "evalue": "name 'df' is not defined",
     "output_type": "error",
     "traceback": [
      "\u001b[1;31m---------------------------------------------------------------------------\u001b[0m",
      "\u001b[1;31mNameError\u001b[0m                                 Traceback (most recent call last)",
      "\u001b[1;32md:\\Desktop\\Universidad\\Interacción sociotecnológica\\sti232-s6-ec01-las-pythonescas\\EjercicioEnClase_1_S6.ipynb Celda 13\u001b[0m line \u001b[0;36m2\n\u001b[0;32m      <a href='vscode-notebook-cell:/d%3A/Desktop/Universidad/Interacci%C3%B3n%20sociotecnol%C3%B3gica/sti232-s6-ec01-las-pythonescas/EjercicioEnClase_1_S6.ipynb#X52sZmlsZQ%3D%3D?line=0'>1</a>\u001b[0m \u001b[39m# 8. ¿Cuál es el \"Salary in USD\" máximo y mínimo?¿A qué registro pertenece?\u001b[39;00m\n\u001b[1;32m----> <a href='vscode-notebook-cell:/d%3A/Desktop/Universidad/Interacci%C3%B3n%20sociotecnol%C3%B3gica/sti232-s6-ec01-las-pythonescas/EjercicioEnClase_1_S6.ipynb#X52sZmlsZQ%3D%3D?line=1'>2</a>\u001b[0m sal_max \u001b[39m=\u001b[39m df[\u001b[39m'\u001b[39m\u001b[39mSalary in USD\u001b[39m\u001b[39m'\u001b[39m]\u001b[39m.\u001b[39mmax()\n\u001b[0;32m      <a href='vscode-notebook-cell:/d%3A/Desktop/Universidad/Interacci%C3%B3n%20sociotecnol%C3%B3gica/sti232-s6-ec01-las-pythonescas/EjercicioEnClase_1_S6.ipynb#X52sZmlsZQ%3D%3D?line=2'>3</a>\u001b[0m sal_min \u001b[39m=\u001b[39m df[\u001b[39m'\u001b[39m\u001b[39mSalary in USD\u001b[39m\u001b[39m'\u001b[39m]\u001b[39m.\u001b[39mmin()\n\u001b[0;32m      <a href='vscode-notebook-cell:/d%3A/Desktop/Universidad/Interacci%C3%B3n%20sociotecnol%C3%B3gica/sti232-s6-ec01-las-pythonescas/EjercicioEnClase_1_S6.ipynb#X52sZmlsZQ%3D%3D?line=4'>5</a>\u001b[0m \u001b[39mprint\u001b[39m (\u001b[39m\"\u001b[39m\u001b[39mSalario máximo en USD:\u001b[39m\u001b[39m\"\u001b[39m,sal_max)\n",
      "\u001b[1;31mNameError\u001b[0m: name 'df' is not defined"
     ]
    }
   ],
   "source": [
    "# 8. ¿Cuál es el \"Salary in USD\" máximo y mínimo?¿A qué registro pertenece?\n",
    "sal_max = df['Salary in USD'].max()\n",
    "sal_min = df['Salary in USD'].min()\n",
    "\n",
    "print (\"Salario máximo en USD:\",sal_max)\n",
    "print (\"Salario mínimo en USD:\",sal_min)"
   ]
  },
  {
   "cell_type": "code",
   "execution_count": 12,
   "metadata": {},
   "outputs": [
    {
     "name": "stdout",
     "output_type": "stream",
     "text": [
      "Job Title\n",
      "AI Architect                       237484.000000\n",
      "AI Developer                       133177.777778\n",
      "AI Programmer                       56021.750000\n",
      "AI Scientist                       114117.333333\n",
      "AWS Data Architect                 258000.000000\n",
      "                                       ...      \n",
      "Sales Data Analyst                  60000.000000\n",
      "Software Data Engineer             111627.666667\n",
      "Staff Data Analyst                  97499.000000\n",
      "Staff Data Scientist               134500.000000\n",
      "Staff Machine Learning Engineer    185000.000000\n",
      "Name: Salary in USD, Length: 111, dtype: float64\n"
     ]
    }
   ],
   "source": [
    "# 9. ¿Cuál es el salario promedio (en USD) por rol por tamaño de compañía? \n",
    "promedio_sal = df.groupby('Job Title')['Salary in USD'].mean()\n",
    "print(promedio_sal)"
   ]
  },
  {
   "cell_type": "code",
   "execution_count": 14,
   "metadata": {},
   "outputs": [
    {
     "name": "stdout",
     "output_type": "stream",
     "text": [
      "    Company Location Company Size  Salary in USD\n",
      "0            Algeria       Medium  100000.000000\n",
      "1     American Samoa        Large   50000.000000\n",
      "2     American Samoa        Small   18053.000000\n",
      "3            Andorra        Small   50745.000000\n",
      "4          Argentina        Large   50000.000000\n",
      "..               ...          ...            ...\n",
      "130   United Kingdom       Medium  109117.449541\n",
      "131   United Kingdom        Small   95451.333333\n",
      "132    United States        Large  153165.880658\n",
      "133    United States       Medium  160228.005467\n",
      "134    United States        Small  113025.087719\n",
      "\n",
      "[135 rows x 3 columns]\n"
     ]
    }
   ],
   "source": [
    "# 10. muestre los datos agrupados por tamaño de la compañía, país y salario promedio. \n",
    "agrupacion = df.groupby(['Company Location','Company Size'])['Salary in USD'].mean().reset_index()\n",
    "print(agrupacion)"
   ]
  }
 ],
 "metadata": {
  "kernelspec": {
   "display_name": "Python 3",
   "language": "python",
   "name": "python3"
  },
  "language_info": {
   "codemirror_mode": {
    "name": "ipython",
    "version": 3
   },
   "file_extension": ".py",
   "mimetype": "text/x-python",
   "name": "python",
   "nbconvert_exporter": "python",
   "pygments_lexer": "ipython3",
   "version": "3.9.7"
  },
  "metadata": {
   "interpreter": {
    "hash": "ba3d4850a890c10d45586037237bfe2cfcb2abdc7396d04cb7cfb59a77f41f12"
   }
  }
 },
 "nbformat": 4,
 "nbformat_minor": 4
}
